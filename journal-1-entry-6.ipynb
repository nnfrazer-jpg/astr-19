{
 "cells": [
  {
   "cell_type": "markdown",
   "id": "855b135c-a560-48bb-bafe-bb78992ef1db",
   "metadata": {},
   "source": [
    "# sin_function(x)\n",
    "The function below takes a number defined as x and returns the value of the sine of x."
   ]
  },
  {
   "cell_type": "code",
   "execution_count": 1,
   "id": "42242758-3e24-4f57-8e7b-26e937ae73cc",
   "metadata": {},
   "outputs": [],
   "source": [
    "# This cell defines and returns sine of x\n",
    "import numpy as np\n",
    "\n",
    "def sin_function(x):\n",
    "    return np.sin(x)"
   ]
  },
  {
   "cell_type": "markdown",
   "id": "82b7fa41-8c74-4295-b9f7-56db1302ea44",
   "metadata": {},
   "source": [
    "# cos_function(x)\n",
    "The next function also takes a number defined as x and returns the value of the cosine of x."
   ]
  },
  {
   "cell_type": "code",
   "execution_count": 2,
   "id": "da5421f6-aaf8-4702-87a3-193d70e1955e",
   "metadata": {},
   "outputs": [],
   "source": [
    "# This function defines and returns cosine of x\n",
    "def cos_function(x):\n",
    "    return np.cos(x)"
   ]
  },
  {
   "cell_type": "markdown",
   "id": "c2c9a0b2-1fb2-4486-aefc-8516285e690b",
   "metadata": {},
   "source": [
    "# Tabulated sin(x) and cos(x)\n",
    "1,000 evenly spaced values of x between 0 and 2pi were generated using np.linspace().  \n",
    "Then the sin(x) and cos(x) are stored in a separate lists "
   ]
  },
  {
   "cell_type": "code",
   "execution_count": 3,
   "id": "6e0ab99f-035f-486b-98ff-44b4c758721c",
   "metadata": {},
   "outputs": [],
   "source": [
    "# Tabulate sin(x) and cos(x) for 1,000 values between 0 and 2pi\n",
    "# Create an array of x values\n",
    "x_values = np.linspace(0, 2*np.pi, 1000)\n",
    "\n",
    "# Compute sin(x) and cos(x) using the defined functions\n",
    "sin_values = [sin_function(x) for x in x_values]\n",
    "cos_values = [cos_function(x) for x in x_values]"
   ]
  },
  {
   "cell_type": "markdown",
   "id": "19cadc36-3187-4202-acc7-44a140b9afa6",
   "metadata": {},
   "source": [
    "# Output Table\n",
    "The table below displays the first 10 computed values of x, sin(x), and cos(x) in columns."
   ]
  },
  {
   "cell_type": "code",
   "execution_count": 22,
   "id": "b659dafa-314c-497f-ba93-c9da93f6455e",
   "metadata": {},
   "outputs": [
    {
     "name": "stdout",
     "output_type": "stream",
     "text": [
      "    x\t     sin(x)\tcos(x)\n",
      "------------------------------\n",
      "0.000000   0.000000   1.000000\n",
      "0.006289   0.006289   0.999980\n",
      "0.012579   0.012579   0.999921\n",
      "0.018868   0.018867   0.999822\n",
      "0.025158   0.025155   0.999684\n",
      "0.031447   0.031442   0.999506\n",
      "0.037737   0.037728   0.999288\n",
      "0.044026   0.044012   0.999031\n",
      "0.050316   0.050295   0.998734\n",
      "0.056605   0.056575   0.998398\n"
     ]
    }
   ],
   "source": [
    "# Print the first 10 values of x, sin(x), and cos(x)\n",
    "print(f\"    {'x'}\\t     {'sin(x)'}\\t{'cos(x)'}\")\n",
    "print(\"-\" * 30)\n",
    "\n",
    "for i in range(10):\n",
    "    print(f\"{x_values[i]:.6f}   {sin_values[i]:.6f}   {cos_values[i]:.6f}\")"
   ]
  }
 ],
 "metadata": {
  "kernelspec": {
   "display_name": "Python 3 (ipykernel)",
   "language": "python",
   "name": "python3"
  },
  "language_info": {
   "codemirror_mode": {
    "name": "ipython",
    "version": 3
   },
   "file_extension": ".py",
   "mimetype": "text/x-python",
   "name": "python",
   "nbconvert_exporter": "python",
   "pygments_lexer": "ipython3",
   "version": "3.13.7"
  }
 },
 "nbformat": 4,
 "nbformat_minor": 5
}
